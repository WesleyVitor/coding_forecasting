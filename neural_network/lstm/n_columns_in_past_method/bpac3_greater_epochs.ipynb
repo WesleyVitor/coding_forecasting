{
 "cells": [
  {
   "cell_type": "code",
   "execution_count": 2,
   "metadata": {
    "executionInfo": {
     "elapsed": 16968,
     "status": "ok",
     "timestamp": 1732457254984,
     "user": {
      "displayName": "WESLEY MORAIS",
      "userId": "14656660819129679867"
     },
     "user_tz": 180
    },
    "id": "MbswX29mQree"
   },
   "outputs": [],
   "source": [
    "import yfinance as yf\n",
    "from sklearn.preprocessing import MinMaxScaler\n",
    "import numpy as np\n",
    "import pandas as pd\n",
    "from datetime import datetime\n",
    "from dateutil.relativedelta import relativedelta\n",
    "from sklearn.metrics import root_mean_squared_error\n",
    "import plotly.express as px\n",
    "from sklearn.model_selection import train_test_split\n",
    "from tensorflow.keras.models import Sequential\n",
    "from tensorflow.keras.layers import Dense, LSTM, Dropout\n",
    "start = datetime(2021, 1, 1)\n",
    "end = datetime(2023, 12, 30)\n",
    "\n",
    "bpac3 = yf.Ticker(\"BPAC3.SA\")\n",
    "\n",
    "max_days = 90\n",
    "df_bpac3_original = bpac3.history(start=start-relativedelta(days=max_days*2),end=end)\n",
    "\n",
    "df_bpac3 = df_bpac3_original\n",
    "# Removendo as colunas que não será necessárias\n",
    "df_bpac3 = df_bpac3.drop(columns=['Open', 'High', 'Low', 'Volume', 'Dividends', 'Stock Splits'])\n"
   ]
  },
  {
   "cell_type": "code",
   "execution_count": null,
   "metadata": {
    "id": "euTaXSkVQrei"
   },
   "outputs": [],
   "source": [
    "\n",
    "# Responsável por fazer a divisão de elementos de eixo x(High e Low) e y(Close)\n",
    "def split_sequence(sequence, n_steps, X_in, y_in):\n",
    "\tX, y = X_in, y_in\n",
    "\tfor i in range(len(sequence)):\n",
    "\t\t# find the end of this pattern\n",
    "\t\tend_ix = i + n_steps\n",
    "\t\t# check if we are beyond the sequence\n",
    "\t\tif end_ix > len(sequence)-1:\n",
    "\t\t\tbreak\n",
    "\t\t# gather input and output parts of the pattern\n",
    "\t\tseq_x, seq_y = sequence[i:end_ix], sequence[end_ix]\n",
    "\t\tX.append(seq_x)\n",
    "\t\ty.append(seq_y)\n",
    "\treturn X, y"
   ]
  },
  {
   "cell_type": "code",
   "execution_count": null,
   "metadata": {
    "id": "UjVHjRHFQrej"
   },
   "outputs": [],
   "source": [
    "legs = 21\n",
    "qtd_goal = 1 # Pois quer predizer apenas 1, o close\n",
    "matrix = {\"janela\":[], \"rmse\": []}\n",
    "matrix_big = {}\n",
    "for epoch in range(100, 1000, 100):\n",
    "  df_bpac3 = df_bpac3_original\n",
    "  df_bpac3 = df_bpac3.drop(columns=['Open', 'High', 'Low', 'Volume', 'Dividends', 'Stock Splits'])\n",
    "  for janela in range(15, max_days+15, 15):\n",
    "      qtd_features = janela\n",
    "\n",
    "\n",
    "      # Adiciona novas colunas com os valores anteriores\n",
    "      for column_id in range(1, janela+1):\n",
    "          df_bpac3[[f'days_before_{column_id}']] = df_bpac3_original[['Close']].shift(column_id)\n",
    "      # Listagem do nome das novas colunas que foram inseridas\n",
    "      columns_inserted = list(df_bpac3.columns)\n",
    "      columns_inserted.pop(0) #Remove Close column\n",
    "\n",
    "\n",
    "      # Volta para o range que estamos estudando 2021-2023\n",
    "      df_bpac3 = df_bpac3.loc[df_bpac3.index > '2021-08-01']\n",
    "      total_rows = len(df_bpac3)\n",
    "\n",
    "\n",
    "      # Divisão de elementos de treinamento e teste\n",
    "      df_train = df_bpac3.iloc[:total_rows - legs]\n",
    "      df_test = df_bpac3.iloc[total_rows - legs:]\n",
    "\n",
    "      # Listagem ordenada de colunas que será usadas no modelo\n",
    "      columns_to_model = columns_inserted + ['Close']\n",
    "\n",
    "      training_set_feature = df_train[columns_to_model].values\n",
    "      testing_set_feature = df_test[columns_to_model].values\n",
    "\n",
    "      X, y = list(), list()\n",
    "\n",
    "      # Pega os valores de High e Low e coloca em X e Close em y para todos os elementos de treinamento\n",
    "      for index in range(len(training_set_feature)):\n",
    "          X, y = split_sequence(training_set_feature[index], qtd_features, X, y)\n",
    "      X, y = np.array(X), np.array(y)\n",
    "\n",
    "      #Cria o modelo\n",
    "      rnn = Sequential()\n",
    "\n",
    "      rnn.add(LSTM(units=1, return_sequences=True, input_shape=(qtd_features, qtd_goal)))\n",
    "      rnn.add(Dropout(0.5))\n",
    "\n",
    "      rnn.add(LSTM(units=50, return_sequences=True))\n",
    "      rnn.add(Dropout(0.5))\n",
    "\n",
    "      rnn.add(LSTM(units=50, return_sequences=True))\n",
    "      rnn.add(Dropout(0.5))\n",
    "\n",
    "      rnn.add(LSTM(units=50, return_sequences=True))\n",
    "      rnn.add(Dropout(0.5))\n",
    "\n",
    "      rnn.add(LSTM(units=50))\n",
    "      rnn.add(Dropout(0.5))\n",
    "\n",
    "      rnn.add(Dense(units=1))\n",
    "      rnn.compile(optimizer='adam', loss='mean_squared_error', metrics=['accuracy'])\n",
    "\n",
    "      rnn.fit(X, y, epochs = epoch, batch_size = 32)\n",
    "\n",
    "      # Testa o elemento com os valores de High e Low para receber um valor de Close\n",
    "\n",
    "      y_real_test = []\n",
    "      y_predicted_test = []\n",
    "      for value in testing_set_feature:\n",
    "\n",
    "          # Pegando os valores de cada coluna que não é a target(Close)\n",
    "          days_before = value[0:-1]\n",
    "          close_real = value[-1]\n",
    "          x_input = np.array([days_before])\n",
    "\n",
    "          x_input = x_input.reshape((qtd_goal, qtd_features))\n",
    "          yhat = rnn.predict(x_input, verbose=0)\n",
    "\n",
    "          y_real_test.append(close_real)\n",
    "          y_predicted_test.append(yhat[0][0])\n",
    "\n",
    "      rmse = root_mean_squared_error(y_real_test, y_predicted_test)\n",
    "      if epoch not in matrix_big:\n",
    "        matrix_big[epoch] = {\"janela\":[], \"rmse\": []}\n",
    "\n",
    "      matrix_big[epoch]['janela'].append(janela)\n",
    "      matrix_big[epoch]['rmse'].append(rmse)\n",
    "\n",
    "print(matrix_big)"
   ]
  },
  {
   "cell_type": "code",
   "execution_count": null,
   "metadata": {
    "colab": {
     "base_uri": "https://localhost:8080/",
     "height": 579
    },
    "executionInfo": {
     "elapsed": 313,
     "status": "ok",
     "timestamp": 1732457335577,
     "user": {
      "displayName": "WESLEY MORAIS",
      "userId": "14656660819129679867"
     },
     "user_tz": 180
    },
    "id": "0jdCTblnQrek",
    "outputId": "96026383-005e-4bc4-aba4-3944a5135711"
   },
   "outputs": [
    {
     "name": "stdout",
     "output_type": "stream",
     "text": [
      "{100: {'janela': [15, 30, 45, 60, 75, 90], 'rmse': [3.9417499367428186, 3.965355841325777, 3.9803932114432303, 3.9748898411753824, 3.9282696319988606, 4.053417146215874]}, 200: {'janela': [15, 30, 45, 60, 75, 90], 'rmse': [3.9529957376908835, 3.987423501136742, 3.9640068594996487, 4.064918880855181, 3.905663440565806, 3.8617637058822756]}, 300: {'janela': [15, 30, 45, 60, 75, 90], 'rmse': [3.8454570856086026, 4.051652823906569, 3.949598432928091, 3.954318632914578, 3.91689066047463, 4.0223563553210555]}}\n"
     ]
    },
    {
     "data": {
      "text/html": [
       "<html>\n",
       "<head><meta charset=\"utf-8\" /></head>\n",
       "<body>\n",
       "    <div>            <script src=\"https://cdnjs.cloudflare.com/ajax/libs/mathjax/2.7.5/MathJax.js?config=TeX-AMS-MML_SVG\"></script><script type=\"text/javascript\">if (window.MathJax && window.MathJax.Hub && window.MathJax.Hub.Config) {window.MathJax.Hub.Config({SVG: {font: \"STIX-Web\"}});}</script>                <script type=\"text/javascript\">window.PlotlyConfig = {MathJaxConfig: 'local'};</script>\n",
       "        <script charset=\"utf-8\" src=\"https://cdn.plot.ly/plotly-2.35.2.min.js\"></script>                <div id=\"2b56cfe2-e212-4082-9b99-ea9c623077d0\" class=\"plotly-graph-div\" style=\"height:525px; width:100%;\"></div>            <script type=\"text/javascript\">                                    window.PLOTLYENV=window.PLOTLYENV || {};                                    if (document.getElementById(\"2b56cfe2-e212-4082-9b99-ea9c623077d0\")) {                    Plotly.newPlot(                        \"2b56cfe2-e212-4082-9b99-ea9c623077d0\",                        [{\"hovertemplate\":\"variable=rmse\\u003cbr\\u003ejanela=%{x}\\u003cbr\\u003evalue=%{y}\\u003cextra\\u003e\\u003c\\u002fextra\\u003e\",\"legendgroup\":\"rmse\",\"line\":{\"color\":\"#636efa\",\"dash\":\"solid\"},\"marker\":{\"symbol\":\"circle\"},\"mode\":\"lines\",\"name\":\"rmse\",\"orientation\":\"v\",\"showlegend\":true,\"x\":[15,30,45,60,75,90],\"xaxis\":\"x\",\"y\":[3.9417499367428186,3.965355841325777,3.9803932114432303,3.9748898411753824,3.9282696319988606,4.053417146215874],\"yaxis\":\"y\",\"type\":\"scatter\"},{\"line\":{\"color\":\"rgb(200, 200, 200)\"},\"mode\":\"lines\",\"name\":\"epoch200\",\"x\":[15,30,45,60,75,90],\"y\":[3.9529957376908835,3.987423501136742,3.9640068594996487,4.064918880855181,3.905663440565806,3.8617637058822756],\"type\":\"scatter\"},{\"line\":{\"color\":\"red\"},\"mode\":\"lines\",\"name\":\"epoch300\",\"x\":[15,30,45,60,75,90],\"y\":[3.8454570856086026,4.051652823906569,3.949598432928091,3.954318632914578,3.91689066047463,4.0223563553210555],\"type\":\"scatter\"}],                        {\"template\":{\"data\":{\"histogram2dcontour\":[{\"type\":\"histogram2dcontour\",\"colorbar\":{\"outlinewidth\":0,\"ticks\":\"\"},\"colorscale\":[[0.0,\"#0d0887\"],[0.1111111111111111,\"#46039f\"],[0.2222222222222222,\"#7201a8\"],[0.3333333333333333,\"#9c179e\"],[0.4444444444444444,\"#bd3786\"],[0.5555555555555556,\"#d8576b\"],[0.6666666666666666,\"#ed7953\"],[0.7777777777777778,\"#fb9f3a\"],[0.8888888888888888,\"#fdca26\"],[1.0,\"#f0f921\"]]}],\"choropleth\":[{\"type\":\"choropleth\",\"colorbar\":{\"outlinewidth\":0,\"ticks\":\"\"}}],\"histogram2d\":[{\"type\":\"histogram2d\",\"colorbar\":{\"outlinewidth\":0,\"ticks\":\"\"},\"colorscale\":[[0.0,\"#0d0887\"],[0.1111111111111111,\"#46039f\"],[0.2222222222222222,\"#7201a8\"],[0.3333333333333333,\"#9c179e\"],[0.4444444444444444,\"#bd3786\"],[0.5555555555555556,\"#d8576b\"],[0.6666666666666666,\"#ed7953\"],[0.7777777777777778,\"#fb9f3a\"],[0.8888888888888888,\"#fdca26\"],[1.0,\"#f0f921\"]]}],\"heatmap\":[{\"type\":\"heatmap\",\"colorbar\":{\"outlinewidth\":0,\"ticks\":\"\"},\"colorscale\":[[0.0,\"#0d0887\"],[0.1111111111111111,\"#46039f\"],[0.2222222222222222,\"#7201a8\"],[0.3333333333333333,\"#9c179e\"],[0.4444444444444444,\"#bd3786\"],[0.5555555555555556,\"#d8576b\"],[0.6666666666666666,\"#ed7953\"],[0.7777777777777778,\"#fb9f3a\"],[0.8888888888888888,\"#fdca26\"],[1.0,\"#f0f921\"]]}],\"heatmapgl\":[{\"type\":\"heatmapgl\",\"colorbar\":{\"outlinewidth\":0,\"ticks\":\"\"},\"colorscale\":[[0.0,\"#0d0887\"],[0.1111111111111111,\"#46039f\"],[0.2222222222222222,\"#7201a8\"],[0.3333333333333333,\"#9c179e\"],[0.4444444444444444,\"#bd3786\"],[0.5555555555555556,\"#d8576b\"],[0.6666666666666666,\"#ed7953\"],[0.7777777777777778,\"#fb9f3a\"],[0.8888888888888888,\"#fdca26\"],[1.0,\"#f0f921\"]]}],\"contourcarpet\":[{\"type\":\"contourcarpet\",\"colorbar\":{\"outlinewidth\":0,\"ticks\":\"\"}}],\"contour\":[{\"type\":\"contour\",\"colorbar\":{\"outlinewidth\":0,\"ticks\":\"\"},\"colorscale\":[[0.0,\"#0d0887\"],[0.1111111111111111,\"#46039f\"],[0.2222222222222222,\"#7201a8\"],[0.3333333333333333,\"#9c179e\"],[0.4444444444444444,\"#bd3786\"],[0.5555555555555556,\"#d8576b\"],[0.6666666666666666,\"#ed7953\"],[0.7777777777777778,\"#fb9f3a\"],[0.8888888888888888,\"#fdca26\"],[1.0,\"#f0f921\"]]}],\"surface\":[{\"type\":\"surface\",\"colorbar\":{\"outlinewidth\":0,\"ticks\":\"\"},\"colorscale\":[[0.0,\"#0d0887\"],[0.1111111111111111,\"#46039f\"],[0.2222222222222222,\"#7201a8\"],[0.3333333333333333,\"#9c179e\"],[0.4444444444444444,\"#bd3786\"],[0.5555555555555556,\"#d8576b\"],[0.6666666666666666,\"#ed7953\"],[0.7777777777777778,\"#fb9f3a\"],[0.8888888888888888,\"#fdca26\"],[1.0,\"#f0f921\"]]}],\"mesh3d\":[{\"type\":\"mesh3d\",\"colorbar\":{\"outlinewidth\":0,\"ticks\":\"\"}}],\"scatter\":[{\"fillpattern\":{\"fillmode\":\"overlay\",\"size\":10,\"solidity\":0.2},\"type\":\"scatter\"}],\"parcoords\":[{\"type\":\"parcoords\",\"line\":{\"colorbar\":{\"outlinewidth\":0,\"ticks\":\"\"}}}],\"scatterpolargl\":[{\"type\":\"scatterpolargl\",\"marker\":{\"colorbar\":{\"outlinewidth\":0,\"ticks\":\"\"}}}],\"bar\":[{\"error_x\":{\"color\":\"#2a3f5f\"},\"error_y\":{\"color\":\"#2a3f5f\"},\"marker\":{\"line\":{\"color\":\"#E5ECF6\",\"width\":0.5},\"pattern\":{\"fillmode\":\"overlay\",\"size\":10,\"solidity\":0.2}},\"type\":\"bar\"}],\"scattergeo\":[{\"type\":\"scattergeo\",\"marker\":{\"colorbar\":{\"outlinewidth\":0,\"ticks\":\"\"}}}],\"scatterpolar\":[{\"type\":\"scatterpolar\",\"marker\":{\"colorbar\":{\"outlinewidth\":0,\"ticks\":\"\"}}}],\"histogram\":[{\"marker\":{\"pattern\":{\"fillmode\":\"overlay\",\"size\":10,\"solidity\":0.2}},\"type\":\"histogram\"}],\"scattergl\":[{\"type\":\"scattergl\",\"marker\":{\"colorbar\":{\"outlinewidth\":0,\"ticks\":\"\"}}}],\"scatter3d\":[{\"type\":\"scatter3d\",\"line\":{\"colorbar\":{\"outlinewidth\":0,\"ticks\":\"\"}},\"marker\":{\"colorbar\":{\"outlinewidth\":0,\"ticks\":\"\"}}}],\"scattermapbox\":[{\"type\":\"scattermapbox\",\"marker\":{\"colorbar\":{\"outlinewidth\":0,\"ticks\":\"\"}}}],\"scatterternary\":[{\"type\":\"scatterternary\",\"marker\":{\"colorbar\":{\"outlinewidth\":0,\"ticks\":\"\"}}}],\"scattercarpet\":[{\"type\":\"scattercarpet\",\"marker\":{\"colorbar\":{\"outlinewidth\":0,\"ticks\":\"\"}}}],\"carpet\":[{\"aaxis\":{\"endlinecolor\":\"#2a3f5f\",\"gridcolor\":\"white\",\"linecolor\":\"white\",\"minorgridcolor\":\"white\",\"startlinecolor\":\"#2a3f5f\"},\"baxis\":{\"endlinecolor\":\"#2a3f5f\",\"gridcolor\":\"white\",\"linecolor\":\"white\",\"minorgridcolor\":\"white\",\"startlinecolor\":\"#2a3f5f\"},\"type\":\"carpet\"}],\"table\":[{\"cells\":{\"fill\":{\"color\":\"#EBF0F8\"},\"line\":{\"color\":\"white\"}},\"header\":{\"fill\":{\"color\":\"#C8D4E3\"},\"line\":{\"color\":\"white\"}},\"type\":\"table\"}],\"barpolar\":[{\"marker\":{\"line\":{\"color\":\"#E5ECF6\",\"width\":0.5},\"pattern\":{\"fillmode\":\"overlay\",\"size\":10,\"solidity\":0.2}},\"type\":\"barpolar\"}],\"pie\":[{\"automargin\":true,\"type\":\"pie\"}]},\"layout\":{\"autotypenumbers\":\"strict\",\"colorway\":[\"#636efa\",\"#EF553B\",\"#00cc96\",\"#ab63fa\",\"#FFA15A\",\"#19d3f3\",\"#FF6692\",\"#B6E880\",\"#FF97FF\",\"#FECB52\"],\"font\":{\"color\":\"#2a3f5f\"},\"hovermode\":\"closest\",\"hoverlabel\":{\"align\":\"left\"},\"paper_bgcolor\":\"white\",\"plot_bgcolor\":\"#E5ECF6\",\"polar\":{\"bgcolor\":\"#E5ECF6\",\"angularaxis\":{\"gridcolor\":\"white\",\"linecolor\":\"white\",\"ticks\":\"\"},\"radialaxis\":{\"gridcolor\":\"white\",\"linecolor\":\"white\",\"ticks\":\"\"}},\"ternary\":{\"bgcolor\":\"#E5ECF6\",\"aaxis\":{\"gridcolor\":\"white\",\"linecolor\":\"white\",\"ticks\":\"\"},\"baxis\":{\"gridcolor\":\"white\",\"linecolor\":\"white\",\"ticks\":\"\"},\"caxis\":{\"gridcolor\":\"white\",\"linecolor\":\"white\",\"ticks\":\"\"}},\"coloraxis\":{\"colorbar\":{\"outlinewidth\":0,\"ticks\":\"\"}},\"colorscale\":{\"sequential\":[[0.0,\"#0d0887\"],[0.1111111111111111,\"#46039f\"],[0.2222222222222222,\"#7201a8\"],[0.3333333333333333,\"#9c179e\"],[0.4444444444444444,\"#bd3786\"],[0.5555555555555556,\"#d8576b\"],[0.6666666666666666,\"#ed7953\"],[0.7777777777777778,\"#fb9f3a\"],[0.8888888888888888,\"#fdca26\"],[1.0,\"#f0f921\"]],\"sequentialminus\":[[0.0,\"#0d0887\"],[0.1111111111111111,\"#46039f\"],[0.2222222222222222,\"#7201a8\"],[0.3333333333333333,\"#9c179e\"],[0.4444444444444444,\"#bd3786\"],[0.5555555555555556,\"#d8576b\"],[0.6666666666666666,\"#ed7953\"],[0.7777777777777778,\"#fb9f3a\"],[0.8888888888888888,\"#fdca26\"],[1.0,\"#f0f921\"]],\"diverging\":[[0,\"#8e0152\"],[0.1,\"#c51b7d\"],[0.2,\"#de77ae\"],[0.3,\"#f1b6da\"],[0.4,\"#fde0ef\"],[0.5,\"#f7f7f7\"],[0.6,\"#e6f5d0\"],[0.7,\"#b8e186\"],[0.8,\"#7fbc41\"],[0.9,\"#4d9221\"],[1,\"#276419\"]]},\"xaxis\":{\"gridcolor\":\"white\",\"linecolor\":\"white\",\"ticks\":\"\",\"title\":{\"standoff\":15},\"zerolinecolor\":\"white\",\"automargin\":true,\"zerolinewidth\":2},\"yaxis\":{\"gridcolor\":\"white\",\"linecolor\":\"white\",\"ticks\":\"\",\"title\":{\"standoff\":15},\"zerolinecolor\":\"white\",\"automargin\":true,\"zerolinewidth\":2},\"scene\":{\"xaxis\":{\"backgroundcolor\":\"#E5ECF6\",\"gridcolor\":\"white\",\"linecolor\":\"white\",\"showbackground\":true,\"ticks\":\"\",\"zerolinecolor\":\"white\",\"gridwidth\":2},\"yaxis\":{\"backgroundcolor\":\"#E5ECF6\",\"gridcolor\":\"white\",\"linecolor\":\"white\",\"showbackground\":true,\"ticks\":\"\",\"zerolinecolor\":\"white\",\"gridwidth\":2},\"zaxis\":{\"backgroundcolor\":\"#E5ECF6\",\"gridcolor\":\"white\",\"linecolor\":\"white\",\"showbackground\":true,\"ticks\":\"\",\"zerolinecolor\":\"white\",\"gridwidth\":2}},\"shapedefaults\":{\"line\":{\"color\":\"#2a3f5f\"}},\"annotationdefaults\":{\"arrowcolor\":\"#2a3f5f\",\"arrowhead\":0,\"arrowwidth\":1},\"geo\":{\"bgcolor\":\"white\",\"landcolor\":\"#E5ECF6\",\"subunitcolor\":\"white\",\"showland\":true,\"showlakes\":true,\"lakecolor\":\"white\"},\"title\":{\"x\":0.05},\"mapbox\":{\"style\":\"light\"}}},\"xaxis\":{\"anchor\":\"y\",\"domain\":[0.0,1.0],\"title\":{\"text\":\"Qde de dias analisados\"}},\"yaxis\":{\"anchor\":\"x\",\"domain\":[0.0,1.0],\"title\":{\"text\":\"RMSE\"}},\"legend\":{\"title\":{\"text\":\"variable\"},\"tracegroupgap\":0},\"margin\":{\"t\":60},\"title\":{\"text\":\"Relação RMSE x Qde de dias analisados para BPAC3\"}},                        {\"responsive\": true}                    ).then(function(){\n",
       "                            \n",
       "var gd = document.getElementById('2b56cfe2-e212-4082-9b99-ea9c623077d0');\n",
       "var x = new MutationObserver(function (mutations, observer) {{\n",
       "        var display = window.getComputedStyle(gd).display;\n",
       "        if (!display || display === 'none') {{\n",
       "            console.log([gd, 'removed!']);\n",
       "            Plotly.purge(gd);\n",
       "            observer.disconnect();\n",
       "        }}\n",
       "}});\n",
       "\n",
       "// Listen for the removal of the full notebook cells\n",
       "var notebookContainer = gd.closest('#notebook-container');\n",
       "if (notebookContainer) {{\n",
       "    x.observe(notebookContainer, {childList: true});\n",
       "}}\n",
       "\n",
       "// Listen for the clearing of the current output cell\n",
       "var outputEl = gd.closest('.output');\n",
       "if (outputEl) {{\n",
       "    x.observe(outputEl, {childList: true});\n",
       "}}\n",
       "\n",
       "                        })                };                            </script>        </div>\n",
       "</body>\n",
       "</html>"
      ]
     },
     "metadata": {},
     "output_type": "display_data"
    }
   ],
   "source": [
    "\n",
    "#matrix_big = {100: {'janela': [15, 30, 45, 60, 75, 90], 'rmse': [3.9417499367428186, 3.965355841325777, 3.9803932114432303, 3.9748898411753824, 3.9282696319988606, 4.053417146215874]}, 200: {'janela': [15, 30, 45, 60, 75, 90], 'rmse': [3.9529957376908835, 3.987423501136742, 3.9640068594996487, 4.064918880855181, 3.905663440565806, 3.8617637058822756]},300: {'janela': [15, 30, 45, 60, 75, 90], 'rmse': [3.8454570856086026, 4.051652823906569, 3.949598432928091, 3.954318632914578, 3.91689066047463, 4.0223563553210555]} }\n",
    "df1 = pd.DataFrame(matrix_big[100])\n",
    "fig = px.line(\n",
    "    df1,\n",
    "    x='janela',\n",
    "    y=['rmse'],\n",
    "\n",
    ")\n",
    "x = 1\n",
    "red = 100\n",
    "green = 150\n",
    "blue = 200\n",
    "print(matrix_big)\n",
    "for epoch in range(200, 1000, 100):\n",
    "  df = pd.DataFrame(matrix_big[epoch])\n",
    "\n",
    "  fig.add_scatter(x=df['janela'], y=df['rmse'], mode='lines', line_color=f\"rgb({red}, {green}, {blue})\", name=f\"epoch{epoch}\")\n",
    "  red += 10\n",
    "  green += 20\n",
    "  blue += 30\n",
    "fig.update_layout(title=\"Relação RMSE x Qde de dias analisados para BPAC3 usando o método de 3 dias no passado\", xaxis_title=\"Qde de dias analisados\", yaxis_title=\"RMSE\")\n",
    "\n",
    "fig.show()"
   ]
  }
 ],
 "metadata": {
  "colab": {
   "provenance": []
  },
  "kernelspec": {
   "display_name": "venv",
   "language": "python",
   "name": "python3"
  },
  "language_info": {
   "codemirror_mode": {
    "name": "ipython",
    "version": 3
   },
   "file_extension": ".py",
   "mimetype": "text/x-python",
   "name": "python",
   "nbconvert_exporter": "python",
   "pygments_lexer": "ipython3",
   "version": "3.9.16"
  }
 },
 "nbformat": 4,
 "nbformat_minor": 0
}
