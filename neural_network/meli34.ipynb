{
 "cells": [
  {
   "cell_type": "code",
   "execution_count": null,
   "metadata": {},
   "outputs": [],
   "source": [
    "import yfinance as yf\n",
    "\n",
    "meli34 = yf.Ticker(\"MELI34.SA\")\n",
    "df_meli34 = meli34.history(start=\"2021-01-01\",end=\"2023-12-30\")"
   ]
  },
  {
   "cell_type": "code",
   "execution_count": null,
   "metadata": {},
   "outputs": [],
   "source": [
    "total_rows = len(df_meli34)\n",
    "legs = 21\n",
    "\n",
    "df_train = df_meli34.iloc[:total_rows - legs]\n",
    "df_test = df_meli34.iloc[total_rows - legs:]"
   ]
  },
  {
   "cell_type": "code",
   "execution_count": null,
   "metadata": {},
   "outputs": [],
   "source": [
    "training_set = df_train['Close'].values"
   ]
  },
  {
   "cell_type": "code",
   "execution_count": null,
   "metadata": {},
   "outputs": [],
   "source": [
    "from sklearn.preprocessing import MinMaxScaler\n",
    "sc = MinMaxScaler(feature_range=(0,1))\n",
    "training_set_scaled = sc.fit_transform(training_set.reshape(-1,1))\n"
   ]
  },
  {
   "cell_type": "code",
   "execution_count": null,
   "metadata": {},
   "outputs": [],
   "source": [
    "intervalo_entre_os_dias = 15 # Dias vistos para trás"
   ]
  },
  {
   "cell_type": "code",
   "execution_count": null,
   "metadata": {},
   "outputs": [],
   "source": [
    "\n",
    "\n",
    "\n",
    "X_train = []\n",
    "y_train = []\n",
    "\n",
    "for i in range(intervalo_entre_os_dias, len(training_set)):\n",
    "  X_train.append(training_set_scaled[i-intervalo_entre_os_dias:i, 0]) #vai pegar sempre os 60 dias para tras\n",
    "  y_train.append(training_set_scaled[i, 0]) #vai pegar sempre todos os valores do intervalo\n",
    "\n",
    "import numpy as np\n",
    "\n",
    "X_train, y_train = np.array(X_train), np.array(y_train)\n",
    "\n",
    "     \n",
    "\n",
    "X_train.shape\n",
    "     \n"
   ]
  },
  {
   "cell_type": "code",
   "execution_count": null,
   "metadata": {},
   "outputs": [],
   "source": [
    "batch_size = len(X_train) # Quantidade de registros que passará para a rede\n",
    "time_steps = intervalo_entre_os_dias # Quantidade de dias que serão usados para prever o próximo\n",
    "features = 1 \n",
    "\n",
    "X_train = np.reshape(X_train, (batch_size, time_steps, features)) # Transforma o array para ter 3 dimensões "
   ]
  },
  {
   "cell_type": "code",
   "execution_count": null,
   "metadata": {},
   "outputs": [],
   "source": [
    "from tensorflow.keras.models import Sequential\n",
    "from tensorflow.keras.layers import Dense, LSTM, Dropout\n",
    "\n",
    "rnn = Sequential()\n"
   ]
  },
  {
   "cell_type": "code",
   "execution_count": null,
   "metadata": {},
   "outputs": [],
   "source": [
    "'''\n",
    "return_sequences=True -> É usado para utilizar o backpropregation em todas as camadas\n",
    "'''\n",
    "rnn.add(LSTM(units=50, return_sequences=True, input_shape=(time_steps, features)))\n",
    "'''\n",
    "Dropout -> É usado para evitar o overfitting quando ocorre a backpropragação removendo no caso 50% dos neurônios\n",
    "'''\n",
    "rnn.add(Dropout(0.5))\n",
    "\n",
    "rnn.add(LSTM(units=50, return_sequences=True))\n",
    "rnn.add(Dropout(0.5))\n",
    "\n",
    "rnn.add(LSTM(units=50, return_sequences=True))\n",
    "rnn.add(Dropout(0.5))\n",
    "\n",
    "rnn.add(LSTM(units=50))\n",
    "rnn.add(Dropout(0.5))\n",
    "\n",
    "'''\n",
    "Dense conecta todas as camadas para retornar 1 valor\n",
    "'''\n",
    "rnn.add(Dense(units=1))"
   ]
  },
  {
   "cell_type": "code",
   "execution_count": null,
   "metadata": {},
   "outputs": [],
   "source": [
    "rnn.compile(optimizer='adam', loss='mean_squared_error', metrics=['accuracy'])\n",
    "'''\n",
    "Epochs -> Quantidade de vezes que o modelo vai treinar\n",
    "'''\n",
    "rnn.fit(X_train, y_train, epochs = 100, batch_size = 32)"
   ]
  },
  {
   "cell_type": "code",
   "execution_count": null,
   "metadata": {},
   "outputs": [],
   "source": [
    "import pandas as pd\n",
    "total_rows = len(df_meli34)\n",
    "legs = 21\n",
    "\n",
    "df_train = df_meli34.iloc[:total_rows - legs]\n",
    "df_test = df_meli34.iloc[total_rows - legs:]\n",
    "\n",
    "fechamento_real = df_test['Close'].values\n",
    "\n",
    "dataset_total = pd.concat((df_meli34['Close'], df_test['Close']), axis=0)\n",
    "inputs = dataset_total[len(dataset_total) - len(df_test) - intervalo_entre_os_dias:].values\n",
    "inputs = inputs.reshape(-1,1)\n",
    "inputs = sc.transform(inputs)\n",
    "\n"
   ]
  },
  {
   "cell_type": "code",
   "execution_count": null,
   "metadata": {},
   "outputs": [],
   "source": [
    "X_test = []\n",
    "for i in range(intervalo_entre_os_dias, len(inputs)):\n",
    "  X_test.append(inputs[i-intervalo_entre_os_dias:i, 0])\n",
    "\n",
    "X_test = np.array(X_test)\n",
    "X_test = np.reshape(X_test, (X_test.shape[0], X_test.shape[1], 1))"
   ]
  },
  {
   "cell_type": "code",
   "execution_count": null,
   "metadata": {},
   "outputs": [],
   "source": [
    "predict = rnn.predict(X_test)\n",
    "\n",
    "variacao_final = sc.inverse_transform(predict)\n",
    "test = df_test['Close'].values\n",
    "\n",
    "from sklearn.metrics import root_mean_squared_error\n",
    "root_mean_squared_error(test, variacao_final)"
   ]
  },
  {
   "cell_type": "code",
   "execution_count": null,
   "metadata": {},
   "outputs": [],
   "source": [
    "import matplotlib.pyplot as plt\n",
    "name = \"meli34\"\n",
    "fechamento_real = df_test['Close'].values\n",
    "\n",
    "plt.plot(fechamento_real, color = 'red', label = f'Dados Reais de Ações da {name}')\n",
    "plt.plot(variacao_final, color = 'blue', label = f'Dados Previstos de Ações do {name}')\n",
    "plt.title('Previsão de Preços de Ações')\n",
    "plt.xlabel('Tempo')\n",
    "plt.ylabel('Preços de Ações')\n",
    "plt.legend()\n",
    "plt.show()"
   ]
  }
 ],
 "metadata": {
  "kernelspec": {
   "display_name": "venv",
   "language": "python",
   "name": "python3"
  },
  "language_info": {
   "codemirror_mode": {
    "name": "ipython",
    "version": 3
   },
   "file_extension": ".py",
   "mimetype": "text/x-python",
   "name": "python",
   "nbconvert_exporter": "python",
   "pygments_lexer": "ipython3",
   "version": "3.9.16"
  }
 },
 "nbformat": 4,
 "nbformat_minor": 2
}
