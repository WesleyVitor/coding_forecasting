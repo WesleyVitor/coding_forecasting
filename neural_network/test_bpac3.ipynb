{
 "cells": [
  {
   "cell_type": "code",
   "execution_count": 85,
   "metadata": {},
   "outputs": [],
   "source": [
    "import yfinance as yf\n",
    "from sklearn.preprocessing import MinMaxScaler\n",
    "import numpy as np\n",
    "import pandas as pd\n",
    "from datetime import datetime\n",
    "from dateutil.relativedelta import relativedelta\n",
    "from sklearn.metrics import root_mean_squared_error\n",
    "import plotly.express as px\n",
    "from sklearn.model_selection import train_test_split\n",
    "from tensorflow.keras.models import Sequential\n",
    "from tensorflow.keras.layers import Dense, LSTM, Dropout\n",
    "start = datetime(2021, 1, 1)\n",
    "end = datetime(2023, 12, 30)\n",
    "\n",
    "bpac3 = yf.Ticker(\"BPAC3.SA\")\n",
    "#df_bpac3 = bpac3.history(start=start,end=end)\n",
    "df_bpac3 = bpac3.history(start=start-relativedelta(days=10),end=end)\n",
    "\n",
    "total_rows = len(df_bpac3)\n",
    "legs = 21\n",
    "qtd_features = 3\n",
    "qtd_goal = 1\n",
    "df_bpac3[['five_days_before']] = df_bpac3[['Close']].shift(5)\n",
    "\n",
    "df_bpac3 = df_bpac3.loc[df_bpac3.index > '2021-01-01']\n",
    "\n",
    "df_train = df_bpac3.iloc[:total_rows - legs]\n",
    "df_test = df_bpac3.iloc[total_rows - legs:]\n",
    "\n",
    "training_set_feature = df_train[['High', 'Low', 'five_days_before', 'Close']].values\n",
    "testing_set_feature = df_test[['High', 'Low', 'five_days_before', 'Close']].values\n",
    "\n"
   ]
  },
  {
   "cell_type": "code",
   "execution_count": 86,
   "metadata": {},
   "outputs": [],
   "source": [
    "\n",
    "# Responsável por fazer a divisão de elementos de eixo x(High e Low) e y(Close)\n",
    "def split_sequence(sequence, n_steps, X_in, y_in):\n",
    "\tX, y = X_in, y_in\n",
    "\tfor i in range(len(sequence)):\n",
    "\t\t# find the end of this pattern\n",
    "\t\tend_ix = i + n_steps\n",
    "\t\t# check if we are beyond the sequence\n",
    "\t\tif end_ix > len(sequence)-1:\n",
    "\t\t\tbreak\n",
    "\t\t# gather input and output parts of the pattern\n",
    "\t\tseq_x, seq_y = sequence[i:end_ix], sequence[end_ix]\n",
    "\t\tX.append(seq_x)\n",
    "\t\ty.append(seq_y)\n",
    "\treturn X, y"
   ]
  },
  {
   "cell_type": "code",
   "execution_count": null,
   "metadata": {},
   "outputs": [],
   "source": [
    "X, y = list(), list()\n",
    "\n",
    "# Pega os valores de High e Low e coloca em X e Close em y para todos os elementos de treinamento\n",
    "for index in range(len(training_set_feature)):\n",
    "    X, y = split_sequence(training_set_feature[index], qtd_features, X, y)\n",
    "X, y = np.array(X), np.array(y)\n",
    "\n",
    "#Cria o modelo\n",
    "rnn = Sequential()\n",
    "\n",
    "rnn.add(LSTM(units=50, return_sequences=True, input_shape=(qtd_features, qtd_goal)))\n",
    "rnn.add(Dropout(0.5))\n",
    "\n",
    "rnn.add(LSTM(units=50, return_sequences=True))\n",
    "rnn.add(Dropout(0.5))\n",
    "\n",
    "rnn.add(LSTM(units=50, return_sequences=True))\n",
    "rnn.add(Dropout(0.5))\n",
    "\n",
    "rnn.add(LSTM(units=50))\n",
    "rnn.add(Dropout(0.5))\n",
    "\n",
    "rnn.add(Dense(units=1))\n",
    "rnn.compile(optimizer='adam', loss='mean_squared_error', metrics=['accuracy'])\n",
    "\n",
    "rnn.fit(X, y, epochs = 100, batch_size = 32)\n",
    "\n"
   ]
  },
  {
   "cell_type": "code",
   "execution_count": null,
   "metadata": {},
   "outputs": [],
   "source": [
    "# Testa o elemento com os valores de High e Low para receber um valor de Close\n",
    "qtd_features = 3 # Pois são 2 elementos high e low\n",
    "qtd_goal = 1 # Pois quer predizer apenas 1, o close\n",
    "y_real_test = []\n",
    "y_predicted_test = []\n",
    "for value in testing_set_feature:\n",
    "    high = value[0]\n",
    "    low = value[1]\n",
    "    five_days_before = value[2]\n",
    "    close_real = value[3]\n",
    "    x_input = np.array([high, low, five_days_before])\n",
    "    x_input = x_input.reshape((qtd_goal, qtd_features))\n",
    "    yhat = rnn.predict(x_input, verbose=0)\n",
    "    \n",
    "    y_real_test.append(close_real)\n",
    "    y_predicted_test.append(yhat[0][0])\n",
    "\n",
    "root_mean_squared_error(y_real_test, y_predicted_test)\n",
    "\n"
   ]
  },
  {
   "cell_type": "code",
   "execution_count": null,
   "metadata": {},
   "outputs": [],
   "source": [
    "print(y_real_test)\n",
    "print(\"---\")\n",
    "print(y_predicted_test)"
   ]
  }
 ],
 "metadata": {
  "kernelspec": {
   "display_name": "venv",
   "language": "python",
   "name": "python3"
  },
  "language_info": {
   "codemirror_mode": {
    "name": "ipython",
    "version": 3
   },
   "file_extension": ".py",
   "mimetype": "text/x-python",
   "name": "python",
   "nbconvert_exporter": "python",
   "pygments_lexer": "ipython3",
   "version": "3.9.16"
  }
 },
 "nbformat": 4,
 "nbformat_minor": 2
}
