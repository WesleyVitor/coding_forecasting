{
 "cells": [
  {
   "cell_type": "code",
   "execution_count": null,
   "metadata": {},
   "outputs": [],
   "source": [
    "import yfinance as yf\n",
    "from sklearn.preprocessing import MinMaxScaler\n",
    "import numpy as np\n",
    "import pandas as pd\n",
    "from sklearn.metrics import root_mean_squared_error\n",
    "import plotly.express as px\n",
    "from sklearn.model_selection import train_test_split\n",
    "from tensorflow.keras.models import Sequential\n",
    "from tensorflow.keras.layers import Dense, LSTM, Dropout\n",
    "bpac3 = yf.Ticker(\"BPAC3.SA\")\n",
    "df_bpac3 = bpac3.history(start=\"2021-01-01\",end=\"2023-12-30\")\n",
    "\n",
    "total_rows = len(df_bpac3)\n",
    "legs = 21\n",
    "\n",
    "df_train = df_bpac3.iloc[:total_rows - legs]\n",
    "df_test = df_bpac3.iloc[total_rows - legs:]\n",
    "\n",
    "training_set_feature = df_train[['High', 'Low', 'Close']].values\n"
   ]
  },
  {
   "cell_type": "code",
   "execution_count": null,
   "metadata": {},
   "outputs": [],
   "source": [
    "# split a univariate sequence into samples\n",
    "def split_sequence(sequence, n_steps, X_in, y_in):\n",
    "\tX, y = X_in, y_in\n",
    "\tfor i in range(len(sequence)):\n",
    "\t\t# find the end of this pattern\n",
    "\t\tend_ix = i + n_steps\n",
    "\t\t# check if we are beyond the sequence\n",
    "\t\tif end_ix > len(sequence)-1:\n",
    "\t\t\tbreak\n",
    "\t\t# gather input and output parts of the pattern\n",
    "\t\tseq_x, seq_y = sequence[i:end_ix], sequence[end_ix]\n",
    "\t\tX.append(seq_x)\n",
    "\t\ty.append(seq_y)\n",
    "\treturn X, y"
   ]
  },
  {
   "cell_type": "code",
   "execution_count": null,
   "metadata": {},
   "outputs": [],
   "source": [
    "X, y = list(), list()\n",
    "qtd_features = 2\n",
    "qtd_goal = 1\n",
    "for index in range(len(training_set_feature)):\n",
    "    X, y = split_sequence(training_set_feature[index], qtd_features, X, y)\n",
    "X, y = np.array(X), np.array(y)\n",
    "\n",
    "\n",
    "rnn = Sequential()\n",
    "\n",
    "rnn.add(LSTM(units=50, return_sequences=True, input_shape=(qtd_features, qtd_goal)))\n",
    "rnn.add(Dropout(0.5))\n",
    "\n",
    "rnn.add(LSTM(units=50, return_sequences=True))\n",
    "rnn.add(Dropout(0.5))\n",
    "\n",
    "rnn.add(LSTM(units=50, return_sequences=True))\n",
    "rnn.add(Dropout(0.5))\n",
    "\n",
    "rnn.add(LSTM(units=50))\n",
    "rnn.add(Dropout(0.5))\n",
    "\n",
    "rnn.add(Dense(units=1))\n",
    "rnn.compile(optimizer='adam', loss='mean_squared_error', metrics=['accuracy'])\n",
    "'''\n",
    "Epochs -> Quantidade de vezes que o modelo vai treinar\n",
    "'''\n",
    "rnn.fit(X, y, epochs = 200, batch_size = 32)\n",
    "x_input = np.array([17.746909, 17.568945])\n",
    "x_input = x_input.reshape((qtd_goal, qtd_features))\n",
    "yhat = rnn.predict(x_input, verbose=0)\n",
    "yhat"
   ]
  },
  {
   "cell_type": "code",
   "execution_count": null,
   "metadata": {},
   "outputs": [],
   "source": [
    "\n",
    "\n",
    "df = pd.DataFrame(relacao)\n",
    "\n",
    "fig = px.line(\n",
    "    df, \n",
    "    x='epochs',\n",
    "    y=['rmse'],\n",
    "    \n",
    ")\n",
    "fig.update_layout(title=\"Relação Épocas x RMSE obtido para uma RNN de janela 3 com 5 camadas para ação BPAC3\", xaxis_title=\"Épocas\", yaxis_title=\"RMSE Obtido\") \n",
    "\n",
    "fig.show()"
   ]
  }
 ],
 "metadata": {
  "kernelspec": {
   "display_name": "venv",
   "language": "python",
   "name": "python3"
  },
  "language_info": {
   "codemirror_mode": {
    "name": "ipython",
    "version": 3
   },
   "file_extension": ".py",
   "mimetype": "text/x-python",
   "name": "python",
   "nbconvert_exporter": "python",
   "pygments_lexer": "ipython3",
   "version": "3.9.16"
  }
 },
 "nbformat": 4,
 "nbformat_minor": 2
}
