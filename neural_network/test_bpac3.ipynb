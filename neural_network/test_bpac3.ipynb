{
 "cells": [
  {
   "cell_type": "code",
   "execution_count": 1,
   "metadata": {},
   "outputs": [],
   "source": [
    "import yfinance as yf\n",
    "from sklearn.preprocessing import MinMaxScaler\n",
    "import numpy as np\n",
    "import pandas as pd\n",
    "from sklearn.metrics import root_mean_squared_error\n",
    "import plotly.express as px\n",
    "\n",
    "bpac3 = yf.Ticker(\"BPAC3.SA\")\n",
    "df_bpac3 = bpac3.history(start=\"2021-01-01\",end=\"2023-12-30\")\n",
    "\n",
    "total_rows = len(df_bpac3)\n",
    "legs = 21\n",
    "\n",
    "df_train = df_bpac3.iloc[:total_rows - legs]\n",
    "df_test = df_bpac3.iloc[total_rows - legs:]\n",
    "\n",
    "training_set = df_train['Close'].values"
   ]
  },
  {
   "cell_type": "code",
   "execution_count": 2,
   "metadata": {},
   "outputs": [],
   "source": [
    "sc = MinMaxScaler(feature_range=(0,1))\n",
    "training_set_scaled = sc.fit_transform(training_set.reshape(-1,1))\n",
    "\n",
    "intervalo_entre_os_dias = 3 # Dias vistos para trás\n",
    "\n",
    "X_train = []\n",
    "y_train = []\n",
    "\n",
    "for i in range(intervalo_entre_os_dias, len(training_set)):\n",
    "  X_train.append(training_set_scaled[i-intervalo_entre_os_dias:i, 0]) #vai pegar sempre os 60 dias para tras\n",
    "  y_train.append(training_set_scaled[i, 0]) #vai pegar sempre todos os valores do intervalo\n",
    "\n",
    "X_train, y_train = np.array(X_train), np.array(y_train)\n",
    "\n",
    "batch_size = len(X_train) # Quantidade de registros que passará para a rede\n",
    "time_steps = intervalo_entre_os_dias # Quantidade de dias que serão usados para prever o próximo\n",
    "features = 1 \n",
    "\n",
    "X_train = np.reshape(X_train, (batch_size, time_steps, features)) # Transforma o array para ter 3 dimensões \n",
    "     "
   ]
  },
  {
   "cell_type": "code",
   "execution_count": null,
   "metadata": {},
   "outputs": [],
   "source": [
    "from tensorflow.keras.models import Sequential\n",
    "from tensorflow.keras.layers import Dense, LSTM, Dropout\n",
    "\n",
    "rnn = Sequential()\n",
    "\n",
    "rnn.add(LSTM(units=50, return_sequences=True, input_shape=(time_steps, features)))\n",
    "rnn.add(Dropout(0.5))\n",
    "\n",
    "rnn.add(LSTM(units=50, return_sequences=True))\n",
    "rnn.add(Dropout(0.5))\n",
    "\n",
    "rnn.add(LSTM(units=50, return_sequences=True))\n",
    "rnn.add(Dropout(0.5))\n",
    "\n",
    "rnn.add(LSTM(units=50))\n",
    "rnn.add(Dropout(0.5))\n",
    "\n",
    "rnn.add(Dense(units=1))"
   ]
  },
  {
   "cell_type": "code",
   "execution_count": null,
   "metadata": {},
   "outputs": [],
   "source": [
    "relacao = {'epochs':[], 'rmse':[]}\n",
    "for epoch in range(100, 2001, 100):\n",
    "    rnn.compile(optimizer='adam', loss='mean_squared_error', metrics=['accuracy'])\n",
    "    '''\n",
    "    Epochs -> Quantidade de vezes que o modelo vai treinar\n",
    "    '''\n",
    "    rnn.fit(X_train, y_train, epochs = epoch, batch_size = 32)\n",
    "\n",
    "    fechamento_real = df_test['Close'].values\n",
    "\n",
    "    dataset_total = pd.concat((df_bpac3['Close'], df_test['Close']), axis=0)\n",
    "    inputs = dataset_total[len(dataset_total) - len(df_test) - intervalo_entre_os_dias:].values\n",
    "    inputs = inputs.reshape(-1,1)\n",
    "    inputs = sc.transform(inputs)\n",
    "\n",
    "    #X_test = []\n",
    "    X_test = [inputs[i-intervalo_entre_os_dias:i, 0] for i in range(intervalo_entre_os_dias, len(inputs))]\n",
    "    # for i in range(intervalo_entre_os_dias, len(inputs)):\n",
    "    #   X_test.append(inputs[i-intervalo_entre_os_dias:i, 0])\n",
    "\n",
    "    X_test = np.array(X_test)\n",
    "    X_test = np.reshape(X_test, (X_test.shape[0], X_test.shape[1], 1))\n",
    "\n",
    "    predict = rnn.predict(X_test)\n",
    "\n",
    "    variacao_final = sc.inverse_transform(predict)\n",
    "    test = df_test['Close'].values\n",
    "    relacao['rmse'].append(root_mean_squared_error(test, variacao_final))\n",
    "    relacao['epochs'].append(epoch)\n",
    "    print(f'Finalizou época {epoch}')\n",
    "    print(relacao)\n"
   ]
  },
  {
   "cell_type": "code",
   "execution_count": null,
   "metadata": {},
   "outputs": [],
   "source": [
    "print(\"Valores de épocas e rmse:\")\n",
    "print(relacao)"
   ]
  },
  {
   "cell_type": "code",
   "execution_count": null,
   "metadata": {},
   "outputs": [],
   "source": [
    "\n",
    "\n",
    "df = pd.DataFrame(relacao)\n",
    "\n",
    "fig = px.line(\n",
    "    df, \n",
    "    x='epochs',\n",
    "    y=['rmse'],\n",
    "    \n",
    ")\n",
    "fig.update_layout(title=\"Relação Épocas x RMSE obtido para uma RNN de janela 3 com 5 camadas para ação BPAC3\", xaxis_title=\"Épocas\", yaxis_title=\"RMSE Obtido\") \n",
    "\n",
    "fig.show()"
   ]
  }
 ],
 "metadata": {
  "kernelspec": {
   "display_name": "venv",
   "language": "python",
   "name": "python3"
  },
  "language_info": {
   "codemirror_mode": {
    "name": "ipython",
    "version": 3
   },
   "file_extension": ".py",
   "mimetype": "text/x-python",
   "name": "python",
   "nbconvert_exporter": "python",
   "pygments_lexer": "ipython3",
   "version": "3.9.16"
  }
 },
 "nbformat": 4,
 "nbformat_minor": 2
}
