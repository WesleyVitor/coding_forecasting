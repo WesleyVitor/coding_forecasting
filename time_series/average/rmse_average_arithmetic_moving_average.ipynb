{
 "cells": [
  {
   "cell_type": "code",
   "execution_count": null,
   "metadata": {},
   "outputs": [],
   "source": [
    "import yfinance as yf\n",
    "\n",
    "bpac3 = yf.Ticker(\"BPAC3.SA\")\n",
    "\n",
    "df_bpac3 = bpac3.history(start=\"2021-01-01\",end=\"2023-12-30\")\n",
    "\n",
    "bpan4 = yf.Ticker(\"BPAN4.SA\")\n",
    "\n",
    "df_bpan4 = bpan4.history(start=\"2021-01-01\",end=\"2023-12-30\")\n",
    "\n",
    "meli34 = yf.Ticker(\"MELI34.SA\")\n",
    "\n",
    "df_meli34 = meli34.history(start=\"2021-01-01\",end=\"2023-12-30\")\n",
    "\n",
    "pags34 = yf.Ticker(\"PAGS34.SA\")\n",
    "\n",
    "df_pags34 = pags34.history(start=\"2021-01-01\",end=\"2023-12-30\")\n"
   ]
  },
  {
   "cell_type": "code",
   "execution_count": null,
   "metadata": {},
   "outputs": [],
   "source": [
    "\n",
    "from sklearn.metrics import root_mean_squared_error\n",
    "import pandas as pd\n",
    "import plotly.express as px\n",
    "\n",
    "matrix = {\"janela\":[], \"rmse_a\": [], \"rmse_e\":[]}\n",
    "for i in range(2, 15):\n",
    "\n",
    "    name_a = f'med_mov_aritimética_{i}'\n",
    "    name_e = f'med_mov_exponencial_{i}'\n",
    "    df_bpac3[name_a] = df_bpac3['Close'].rolling(window=i, min_periods=0).mean()\n",
    "    df_bpac3[name_e] = df_bpac3['Close'].ewm(span=i, min_periods=0,adjust=False).mean()\n",
    "    rmse_a_bpac3 = root_mean_squared_error(df_bpac3['Close'].to_numpy(), df_bpac3[name_a].to_numpy())\n",
    "    rmse_e_bpac3 = root_mean_squared_error(df_bpac3['Close'].to_numpy(), df_bpac3[name_e].to_numpy())\n",
    "\n",
    "    name_a = f'med_mov_aritimética_{i}'\n",
    "    name_e = f'med_mov_exponencial_{i}'\n",
    "    df_bpan4[name_a] = df_bpan4['Close'].rolling(window=i, min_periods=0).mean()\n",
    "    df_bpan4[name_e] = df_bpan4['Close'].ewm(span=i, min_periods=0,adjust=False).mean()\n",
    "    rmse_a_bpan4 = root_mean_squared_error(df_bpan4['Close'].to_numpy(), df_bpan4[name_a].to_numpy())\n",
    "    rmse_e_bpan4 = root_mean_squared_error(df_bpan4['Close'].to_numpy(), df_bpan4[name_e].to_numpy())\n",
    "\n",
    "    name_a = f'med_mov_aritimética_{i}'\n",
    "    name_e = f'med_mov_exponencial_{i}'\n",
    "    df_meli34[name_a] = df_meli34['Close'].rolling(window=i, min_periods=0).mean()\n",
    "    df_meli34[name_e] = df_meli34['Close'].ewm(span=i, min_periods=0,adjust=False).mean()\n",
    "    rmse_a_meli34 = root_mean_squared_error(df_meli34['Close'].to_numpy(), df_meli34[name_a].to_numpy())\n",
    "    rmse_e_meli34 = root_mean_squared_error(df_meli34['Close'].to_numpy(), df_meli34[name_e].to_numpy())\n",
    "\n",
    "    name_a = f'med_mov_aritimética_{i}'\n",
    "    name_e = f'med_mov_exponencial_{i}'\n",
    "    df_pags34[name_a] = df_pags34['Close'].rolling(window=i, min_periods=0).mean()\n",
    "    df_pags34[name_e] = df_pags34['Close'].ewm(span=i, min_periods=0,adjust=False).mean()\n",
    "    rmse_a_pags34 = root_mean_squared_error(df_pags34['Close'].to_numpy(), df_pags34[name_a].to_numpy())\n",
    "    rmse_e_pags34 = root_mean_squared_error(df_pags34['Close'].to_numpy(), df_pags34[name_e].to_numpy())\n",
    "    \n",
    "    rmse_a = (rmse_a_bpac3 + rmse_a_bpan4 + rmse_a_meli34 + rmse_a_pags34)/4\n",
    "    rmse_e = (rmse_e_bpac3 + rmse_e_bpan4 + rmse_e_meli34 + rmse_e_pags34)/4\n",
    "\n",
    "    matrix[\"janela\"].append(i)\n",
    "    matrix[\"rmse_a\"].append(rmse_a.round(5))\n",
    "    matrix[\"rmse_e\"].append(rmse_e.round(5))\n",
    "\n"
   ]
  },
  {
   "cell_type": "code",
   "execution_count": null,
   "metadata": {},
   "outputs": [],
   "source": [
    "df = pd.DataFrame(matrix)\n",
    "\n",
    "fig = px.line(\n",
    "    df, \n",
    "    x='janela',\n",
    "    y=['rmse_a', 'rmse_e'],\n",
    "    \n",
    ")\n",
    "fig.update_layout(title=\"Relação Média RMSE x Qde de dias analisados\", xaxis_title=\"Qde de dias analisados\", yaxis_title=\"RMSE Médio\") \n",
    "\n",
    "fig.show()"
   ]
  }
 ],
 "metadata": {
  "kernelspec": {
   "display_name": "venv",
   "language": "python",
   "name": "python3"
  },
  "language_info": {
   "codemirror_mode": {
    "name": "ipython",
    "version": 3
   },
   "file_extension": ".py",
   "mimetype": "text/x-python",
   "name": "python",
   "nbconvert_exporter": "python",
   "pygments_lexer": "ipython3",
   "version": "3.9.16"
  }
 },
 "nbformat": 4,
 "nbformat_minor": 2
}
