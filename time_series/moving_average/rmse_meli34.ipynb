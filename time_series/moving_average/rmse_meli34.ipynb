{
 "cells": [
  {
   "cell_type": "code",
   "execution_count": null,
   "metadata": {},
   "outputs": [],
   "source": [
    "import yfinance as yf\n",
    "\n",
    "meli34 = yf.Ticker(\"MELI34.SA\")\n",
    "\n",
    "df_meli34 = meli34.history(start=\"2021-01-01\",end=\"2023-12-30\")\n"
   ]
  },
  {
   "cell_type": "code",
   "execution_count": 1,
   "metadata": {},
   "outputs": [],
   "source": [
    "from data import *\n",
    "from sklearn.metrics import root_mean_squared_error\n",
    "import pandas as pd\n",
    "import plotly.express as px\n",
    "\n",
    "matrix = {\"janela\":[], \"rmse_a\": [], \"rmse_e\":[]}\n",
    "for i in range(2, 15):\n",
    "\n",
    "    name_a = f'med_mov_aritimética_{i}'\n",
    "    name_e = f'med_mov_exponencial_{i}'\n",
    "    df_meli34[name_a] = df_meli34['Close'].rolling(window=i, min_periods=0).mean()\n",
    "    df_meli34[name_e] = df_meli34['Close'].ewm(span=i, min_periods=0,adjust=False).mean()\n",
    "    rmse_a = root_mean_squared_error(df_meli34['Close'].to_numpy(), df_meli34[name_a].to_numpy())\n",
    "    rmse_e = root_mean_squared_error(df_meli34['Close'].to_numpy(), df_meli34[name_e].to_numpy())\n",
    "    matrix[\"janela\"].append(i)\n",
    "    matrix[\"rmse_a\"].append(rmse_a.round(5))\n",
    "    matrix[\"rmse_e\"].append(rmse_e.round(5))\n",
    "\n"
   ]
  },
  {
   "cell_type": "code",
   "execution_count": null,
   "metadata": {},
   "outputs": [],
   "source": [
    "\n",
    "\n",
    "df = pd.DataFrame(matrix)\n",
    "\n",
    "fig = px.line(\n",
    "    df, \n",
    "    x='janela',\n",
    "    y=['rmse_a', 'rmse_e'],\n",
    "    \n",
    ")\n",
    "fig.update_layout(title=\"Relação RMSE x Janela de Médias Móveis para MELI34\", xaxis_title=\"Janelas\", yaxis_title=\"RMSE\") \n",
    "\n",
    "fig.show()"
   ]
  }
 ],
 "metadata": {
  "kernelspec": {
   "display_name": "venv",
   "language": "python",
   "name": "python3"
  },
  "language_info": {
   "codemirror_mode": {
    "name": "ipython",
    "version": 3
   },
   "file_extension": ".py",
   "mimetype": "text/x-python",
   "name": "python",
   "nbconvert_exporter": "python",
   "pygments_lexer": "ipython3",
   "version": "3.9.16"
  }
 },
 "nbformat": 4,
 "nbformat_minor": 2
}
