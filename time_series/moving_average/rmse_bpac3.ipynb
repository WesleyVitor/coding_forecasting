{
 "cells": [
  {
   "cell_type": "code",
   "execution_count": null,
   "metadata": {},
   "outputs": [],
   "source": [
    "import yfinance as yf\n",
    "\n",
    "bpac3 = yf.Ticker(\"BPAC3.SA\")\n",
    "df_bpac3 = bpac3.history(start=\"2021-01-01\",end=\"2023-12-30\")"
   ]
  },
  {
   "cell_type": "code",
   "execution_count": null,
   "metadata": {},
   "outputs": [],
   "source": [
    "\n",
    "from sklearn.metrics import root_mean_squared_error\n",
    "import pandas as pd\n",
    "import plotly.express as px\n",
    "from statsmodels.tsa.arima.model import ARIMA\n",
    "\n",
    "train_size_bpac3 = int(len(df_bpac3) * 0.8)\n",
    "train_bpac3, test_bpac3 = df_bpac3[0:train_size_bpac3], df_bpac3[train_size_bpac3:len(df_bpac3)]\n",
    "\n",
    "matrix = {\"janela\":[], \"rmse_a\": [], \"rmse_e\":[], \"rmse_arima\":[]}\n",
    "for i in range(2, 15):\n",
    "    # p - Número de observações passadas\n",
    "    # d - Número de vezes que ocorreram diferenciação entre os dados passados \n",
    "    # q - Janela de médias móveis\n",
    "    model_train = ARIMA(train_bpac3['Close'], order=(1, 1, i))\n",
    "    \n",
    "    model_train_fit = model_train.fit()\n",
    "\n",
    "    test_forecast = model_train_fit.get_forecast(steps=len(test_bpac3))\n",
    "    test_forecast_series = pd.Series(test_forecast.predicted_mean.to_numpy(), index=test_bpac3.index)\n",
    "\n",
    "    # Calculate the mean squared error\n",
    "    rmse_arima = root_mean_squared_error(test_bpac3['Close'], test_forecast_series)\n",
    "    name_a = f'med_mov_aritimética_{i}'\n",
    "    name_e = f'med_mov_exponencial_{i}'\n",
    "    df_bpac3[name_a] = df_bpac3['Close'].rolling(window=i, min_periods=0).mean()\n",
    "    df_bpac3[name_e] = df_bpac3['Close'].ewm(span=i, min_periods=0,adjust=False).mean()\n",
    "    rmse_a = root_mean_squared_error(df_bpac3['Close'].to_numpy(), df_bpac3[name_a].to_numpy())\n",
    "    rmse_e = root_mean_squared_error(df_bpac3['Close'].to_numpy(), df_bpac3[name_e].to_numpy())\n",
    "    matrix[\"janela\"].append(i)\n",
    "    matrix[\"rmse_a\"].append(rmse_a.round(5))\n",
    "    matrix[\"rmse_e\"].append(rmse_e.round(5))\n",
    "    matrix['rmse_arima'].append(rmse_arima.round(5))\n",
    "\n"
   ]
  },
  {
   "cell_type": "code",
   "execution_count": null,
   "metadata": {},
   "outputs": [],
   "source": [
    "\n",
    "\n",
    "df = pd.DataFrame(matrix)\n",
    "\n",
    "fig = px.line(\n",
    "    df, \n",
    "    x='janela',\n",
    "    y=['rmse_a', 'rmse_e', 'rmse_arima'],\n",
    "    \n",
    ")\n",
    "fig.update_layout(title=\"Relação RMSE x Qde de dias analisados para BPAC3\", xaxis_title=\"Qde de dias analisados\", yaxis_title=\"RMSE\") \n",
    "\n",
    "fig.show()"
   ]
  }
 ],
 "metadata": {
  "kernelspec": {
   "display_name": "venv",
   "language": "python",
   "name": "python3"
  },
  "language_info": {
   "codemirror_mode": {
    "name": "ipython",
    "version": 3
   },
   "file_extension": ".py",
   "mimetype": "text/x-python",
   "name": "python",
   "nbconvert_exporter": "python",
   "pygments_lexer": "ipython3",
   "version": "3.9.16"
  }
 },
 "nbformat": 4,
 "nbformat_minor": 2
}
