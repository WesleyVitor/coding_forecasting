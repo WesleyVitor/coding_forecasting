{
 "cells": [
  {
   "cell_type": "code",
   "execution_count": null,
   "metadata": {},
   "outputs": [],
   "source": [
    "import yfinance as yf\n",
    "\n",
    "pags34 = yf.Ticker(\"PAGS34.SA\")\n",
    "\n",
    "df_pags34 = pags34.history(start=\"2021-01-01\",end=\"2023-12-30\")\n"
   ]
  },
  {
   "cell_type": "code",
   "execution_count": null,
   "metadata": {},
   "outputs": [],
   "source": [
    "\n",
    "from sklearn.metrics import root_mean_squared_error\n",
    "import pandas as pd\n",
    "import plotly.express as px\n",
    "from statsmodels.tsa.arima.model import ARIMA\n",
    "\n",
    "train_size_pags34 = int(len(df_pags34) * 0.8)\n",
    "train_pags34, test_pags34 = df_pags34[0:train_size_pags34], df_pags34[train_size_pags34:len(df_pags34)]\n",
    "\n",
    "matrix = {\"janela\":[], \"rmse_a\": [], \"rmse_e\":[], \"rmse_arima\":[]}\n",
    "for i in range(2, 15):\n",
    "\n",
    "    # p - Número de observações passadas\n",
    "    # d - Número de vezes que ocorreram diferenciação entre os dados passados \n",
    "    # q - Janela de médias móveis\n",
    "    model_train = ARIMA(train_pags34['Close'], order=(1, 1, i))\n",
    "    \n",
    "    model_train_fit = model_train.fit()\n",
    "\n",
    "    test_forecast = model_train_fit.get_forecast(steps=len(test_pags34))\n",
    "    test_forecast_series = pd.Series(test_forecast.predicted_mean.to_numpy(), index=test_pags34.index)\n",
    "\n",
    "    # Calculate the mean squared error\n",
    "    rmse_arima = root_mean_squared_error(test_pags34['Close'], test_forecast_series)\n",
    "\n",
    "    name_a = f'med_mov_aritimética_{i}'\n",
    "    name_e = f'med_mov_exponencial_{i}'\n",
    "    df_pags34[name_a] = df_pags34['Close'].rolling(window=i, min_periods=0).mean()\n",
    "    df_pags34[name_e] = df_pags34['Close'].ewm(span=i, min_periods=0,adjust=False).mean()\n",
    "    rmse_a = root_mean_squared_error(df_pags34['Close'].to_numpy(), df_pags34[name_a].to_numpy())\n",
    "    rmse_e = root_mean_squared_error(df_pags34['Close'].to_numpy(), df_pags34[name_e].to_numpy())\n",
    "    matrix[\"janela\"].append(i)\n",
    "    matrix[\"rmse_a\"].append(rmse_a.round(5))\n",
    "    matrix[\"rmse_e\"].append(rmse_e.round(5))\n",
    "    matrix[\"rmse_arima\"].append(rmse_arima.round(5))\n",
    "\n"
   ]
  },
  {
   "cell_type": "code",
   "execution_count": null,
   "metadata": {},
   "outputs": [],
   "source": [
    "\n",
    "\n",
    "df = pd.DataFrame(matrix)\n",
    "\n",
    "fig = px.line(\n",
    "    df, \n",
    "    x='janela',\n",
    "    y=['rmse_a', 'rmse_e', 'rmse_arima'],\n",
    "    \n",
    ")\n",
    "fig.update_layout(title=\"Relação RMSE x Qde de dias analisados para PAGS34\", xaxis_title=\"Qde de dias analisados\", yaxis_title=\"RMSE\") \n",
    "\n",
    "fig.show()"
   ]
  }
 ],
 "metadata": {
  "kernelspec": {
   "display_name": "venv",
   "language": "python",
   "name": "python3"
  },
  "language_info": {
   "codemirror_mode": {
    "name": "ipython",
    "version": 3
   },
   "file_extension": ".py",
   "mimetype": "text/x-python",
   "name": "python",
   "nbconvert_exporter": "python",
   "pygments_lexer": "ipython3",
   "version": "3.9.16"
  }
 },
 "nbformat": 4,
 "nbformat_minor": 2
}
