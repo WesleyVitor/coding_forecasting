{
 "cells": [
  {
   "cell_type": "code",
   "execution_count": null,
   "metadata": {},
   "outputs": [],
   "source": [
    "import yfinance as yf\n",
    "\n",
    "bpan4 = yf.Ticker(\"BPAN4.SA\")\n",
    "df_bpan4 = bpan4.history(start=\"2021-01-01\",end=\"2023-12-30\")"
   ]
  },
  {
   "cell_type": "code",
   "execution_count": null,
   "metadata": {},
   "outputs": [],
   "source": [
    "from statsmodels.tsa.arima.model import ARIMA\n",
    "import pandas as pd\n",
    "from sklearn.metrics import root_mean_squared_error\n",
    "train_size = int(len(df_bpan4) * 0.8)\n",
    "train, test = df_bpan4[0:train_size], df_bpan4[train_size:len(df_bpan4)]\n",
    "\n",
    "# \n",
    "model_train = ARIMA(train['Close'], order=(10, 0, 10))\n",
    "model_train_fit = model_train.fit()\n",
    "\n",
    "test_forecast = model_train_fit.get_forecast(steps=len(test))\n",
    "test_forecast_series = pd.Series(test_forecast.predicted_mean.to_numpy(), index=test.index)\n",
    "\n",
    "# Calculate the mean squared error\n",
    "rmse = root_mean_squared_error(test['Close'], test_forecast_series)\n",
    "rmse\n"
   ]
  },
  {
   "cell_type": "code",
   "execution_count": null,
   "metadata": {},
   "outputs": [],
   "source": [
    "# Create a plot to compare the forecast with the actual test data\n",
    "import matplotlib.pyplot as plt\n",
    "plt.figure(figsize=(14,7))\n",
    "plt.plot(train['Close'], label='Training Data')\n",
    "plt.plot(test['Close'], label='Actual Data', color='orange')\n",
    "plt.plot(test_forecast_series, label='Forecasted Data', color='green')\n",
    "plt.fill_between(test.index, \n",
    "                 test_forecast.conf_int().iloc[:, 0], \n",
    "                 test_forecast.conf_int().iloc[:, 1], \n",
    "                 color='k', alpha=.15)\n",
    "plt.title('ARIMA Model Evaluation')\n",
    "plt.xlabel('Date')\n",
    "plt.ylabel('Number of Births')\n",
    "plt.legend()\n",
    "plt.show()\n",
    "\n"
   ]
  }
 ],
 "metadata": {
  "kernelspec": {
   "display_name": "venv",
   "language": "python",
   "name": "python3"
  },
  "language_info": {
   "codemirror_mode": {
    "name": "ipython",
    "version": 3
   },
   "file_extension": ".py",
   "mimetype": "text/x-python",
   "name": "python",
   "nbconvert_exporter": "python",
   "pygments_lexer": "ipython3",
   "version": "3.9.16"
  }
 },
 "nbformat": 4,
 "nbformat_minor": 2
}
